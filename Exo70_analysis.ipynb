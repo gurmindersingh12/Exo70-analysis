{
  "nbformat": 4,
  "nbformat_minor": 0,
  "metadata": {
    "colab": {
      "provenance": [],
      "authorship_tag": "ABX9TyMeF3M2FyR3WxDWN2n5QNCp"
    },
    "kernelspec": {
      "name": "python3",
      "display_name": "Python 3"
    },
    "language_info": {
      "name": "python"
    }
  },
  "cells": [
    {
      "cell_type": "markdown",
      "source": [
        "# Step 1: Setup in Google Colab"
      ],
      "metadata": {
        "id": "5k_ZHgkpEqu8"
      }
    },
    {
      "cell_type": "code",
      "execution_count": 2,
      "metadata": {
        "id": "JCkdk2tFDqhs",
        "colab": {
          "base_uri": "https://localhost:8080/"
        },
        "outputId": "675c5e7e-2fae-438a-812c-14d51c199fe4"
      },
      "outputs": [
        {
          "output_type": "stream",
          "name": "stdout",
          "text": [
            "Reading package lists... Done\n",
            "Building dependency tree... Done\n",
            "Reading state information... Done\n",
            "muscle is already the newest version (1:3.8.1551-2build1).\n",
            "0 upgraded, 0 newly installed, 0 to remove and 49 not upgraded.\n"
          ]
        }
      ],
      "source": [
        "## First, ensure that you have the required packages installed.\n",
        "## In Google Colab, you can install the necessary bioinformatics tools and libraries using the following code:\n",
        "\n",
        "!apt-get install -y muscle\n",
        "\n",
        "## This command installs MUSCLE (Multiple Sequence Comparison by Log-Expectation),\n",
        "## a tool for creating multiple sequence alignments of nucleotide or protein sequences.\n",
        "## In this analysis, MUSCLE aligns the Exo70 sequences, which is a crucial step before\n",
        "## constructing a phylogenetic tree. The alignment ensures that the sequences are organized\n",
        "## to highlight conserved regions, helping reveal evolutionary relationships.\n",
        "\n",
        "\n",
        "## !: This symbol runs a shell command directly from the Jupyter notebook.\n",
        "## It allows us to execute terminal commands, such as installing software, directly within the notebook environment.\n",
        "\n",
        "## apt-get: This is a package management command in Debian-based Linux systems.\n",
        "## It helps install, update, or remove software packages from repositories.\n",
        "\n",
        "\n",
        "## install: Tells apt-get that we want to install a package.\n",
        "## -y: This option automatically answers \"yes\" to any prompts during installation, so the installation proceeds without manual confirmation.\n"
      ]
    },
    {
      "cell_type": "code",
      "source": [
        "## Google Colab doesn’t always have RAxML in its default repositories, so we need to either\n",
        "## compile it from source or use a precompiled version if available. Here’s a workaround to\n",
        "## install RAxML on Google Colab by downloading and compiling it directly:\n",
        "\n",
        "\n",
        "## Download RAxML Source Code:\n",
        "!wget https://github.com/stamatak/standard-RAxML/archive/refs/heads/master.zip -O raxml.zip\n",
        "!unzip raxml.zip\n",
        "\n",
        "## Compile RAxML:\n",
        "%cd standard-RAxML-master\n",
        "!make -f Makefile.gcc\n",
        "%cd ..\n",
        "\n",
        "## Move the Compiled RAxML to a Usable Location:\n",
        "## This places the raxmlHPC executable in your path, so you can call it directly.\n",
        "\n",
        "!cp standard-RAxML-master/raxmlHPC .\n",
        "\n",
        "\n"
      ],
      "metadata": {
        "colab": {
          "base_uri": "https://localhost:8080/"
        },
        "id": "5BeUAy4eMdzG",
        "outputId": "74754903-23bf-4959-81b4-938bca26c27f"
      },
      "execution_count": 3,
      "outputs": [
        {
          "output_type": "stream",
          "name": "stdout",
          "text": [
            "--2024-11-06 21:49:43--  https://github.com/stamatak/standard-RAxML/archive/refs/heads/master.zip\n",
            "Resolving github.com (github.com)... 140.82.114.3\n",
            "Connecting to github.com (github.com)|140.82.114.3|:443... connected.\n",
            "HTTP request sent, awaiting response... 302 Found\n",
            "Location: https://codeload.github.com/stamatak/standard-RAxML/zip/refs/heads/master [following]\n",
            "--2024-11-06 21:49:44--  https://codeload.github.com/stamatak/standard-RAxML/zip/refs/heads/master\n",
            "Resolving codeload.github.com (codeload.github.com)... 140.82.114.10\n",
            "Connecting to codeload.github.com (codeload.github.com)|140.82.114.10|:443... connected.\n",
            "HTTP request sent, awaiting response... 200 OK\n",
            "Length: unspecified [application/zip]\n",
            "Saving to: ‘raxml.zip’\n",
            "\n",
            "raxml.zip               [       <=>          ]   9.75M  6.94MB/s    in 1.4s    \n",
            "\n",
            "2024-11-06 21:49:46 (6.94 MB/s) - ‘raxml.zip’ saved [10226862]\n",
            "\n",
            "Archive:  raxml.zip\n",
            "8ee5879027ce766a89283ecc0da449ae2d64c540\n",
            "   creating: standard-RAxML-master/\n",
            "   creating: standard-RAxML-master/.github/\n",
            "   creating: standard-RAxML-master/.github/workflows/\n",
            "  inflating: standard-RAxML-master/.github/workflows/ci.yaml  \n",
            " extracting: standard-RAxML-master/.gitignore  \n",
            "  inflating: standard-RAxML-master/Makefile.AVX.HYBRID.gcc  \n",
            "  inflating: standard-RAxML-master/Makefile.AVX.MPI.gcc  \n",
            "  inflating: standard-RAxML-master/Makefile.AVX.PTHREADS.gcc  \n",
            "  inflating: standard-RAxML-master/Makefile.AVX.PTHREADS.mac  \n",
            "  inflating: standard-RAxML-master/Makefile.AVX.gcc  \n",
            "  inflating: standard-RAxML-master/Makefile.AVX.mac  \n",
            "  inflating: standard-RAxML-master/Makefile.AVX2.HYBRID.gcc  \n",
            "  inflating: standard-RAxML-master/Makefile.AVX2.MPI.gcc  \n",
            "  inflating: standard-RAxML-master/Makefile.AVX2.PTHREADS.gcc  \n",
            "  inflating: standard-RAxML-master/Makefile.AVX2.PTHREADS.mac  \n",
            "  inflating: standard-RAxML-master/Makefile.AVX2.gcc  \n",
            "  inflating: standard-RAxML-master/Makefile.AVX2.mac  \n",
            "  inflating: standard-RAxML-master/Makefile.HYBRID.gcc  \n",
            "  inflating: standard-RAxML-master/Makefile.MPI.gcc  \n",
            "  inflating: standard-RAxML-master/Makefile.PTHREADS.gcc  \n",
            "  inflating: standard-RAxML-master/Makefile.PTHREADS.mac  \n",
            "  inflating: standard-RAxML-master/Makefile.QuartetMPI.gcc  \n",
            "  inflating: standard-RAxML-master/Makefile.SSE3.HYBRID.gcc  \n",
            "  inflating: standard-RAxML-master/Makefile.SSE3.MPI.gcc  \n",
            "  inflating: standard-RAxML-master/Makefile.SSE3.PTHREADS.gcc  \n",
            "  inflating: standard-RAxML-master/Makefile.SSE3.PTHREADS.mac  \n",
            "  inflating: standard-RAxML-master/Makefile.SSE3.QuartetMPI.gcc  \n",
            "  inflating: standard-RAxML-master/Makefile.SSE3.gcc  \n",
            "  inflating: standard-RAxML-master/Makefile.SSE3.mac  \n",
            "  inflating: standard-RAxML-master/Makefile.gcc  \n",
            "  inflating: standard-RAxML-master/README.md  \n",
            "   creating: standard-RAxML-master/WindowsExecutables_v8.2.10/\n",
            "  inflating: standard-RAxML-master/WindowsExecutables_v8.2.10/README  \n",
            "  inflating: standard-RAxML-master/WindowsExecutables_v8.2.10/raxmlHPC-AVX.exe  \n",
            "  inflating: standard-RAxML-master/WindowsExecutables_v8.2.10/raxmlHPC-AVX2.exe  \n",
            "  inflating: standard-RAxML-master/WindowsExecutables_v8.2.10/raxmlHPC-PTHREADS-AVX.exe  \n",
            "  inflating: standard-RAxML-master/WindowsExecutables_v8.2.10/raxmlHPC-PTHREADS-AVX2.exe  \n",
            "  inflating: standard-RAxML-master/WindowsExecutables_v8.2.10/raxmlHPC-PTHREADS-SSE3.exe  \n",
            "  inflating: standard-RAxML-master/WindowsExecutables_v8.2.10/raxmlHPC-PTHREADS.exe  \n",
            "  inflating: standard-RAxML-master/WindowsExecutables_v8.2.10/raxmlHPC-SSE3.exe  \n",
            "  inflating: standard-RAxML-master/WindowsExecutables_v8.2.10/raxmlHPC.exe  \n",
            "   creating: standard-RAxML-master/WindowsExecutables_v8.2.4/\n",
            "  inflating: standard-RAxML-master/WindowsExecutables_v8.2.4/README  \n",
            "  inflating: standard-RAxML-master/WindowsExecutables_v8.2.4/pthreadGC2.dll  \n",
            "  inflating: standard-RAxML-master/WindowsExecutables_v8.2.4/raxmlHPC-AVX.exe  \n",
            "  inflating: standard-RAxML-master/WindowsExecutables_v8.2.4/raxmlHPC-PTHREADS-AVX.exe  \n",
            "  inflating: standard-RAxML-master/WindowsExecutables_v8.2.4/raxmlHPC-PTHREADS-SSE3.exe  \n",
            "  inflating: standard-RAxML-master/WindowsExecutables_v8.2.4/raxmlHPC-PTHREADS.exe  \n",
            "  inflating: standard-RAxML-master/WindowsExecutables_v8.2.4/raxmlHPC-SSE3.exe  \n",
            "  inflating: standard-RAxML-master/WindowsExecutables_v8.2.4/raxmlHPC.exe  \n",
            "  inflating: standard-RAxML-master/ancestralStates.c  \n",
            "  inflating: standard-RAxML-master/avxLikelihood.c  \n",
            "  inflating: standard-RAxML-master/axml.c  \n",
            "  inflating: standard-RAxML-master/axml.h  \n",
            "  inflating: standard-RAxML-master/bipartitionList.c  \n",
            "  inflating: standard-RAxML-master/classify.c  \n",
            "  inflating: standard-RAxML-master/eigen.c  \n",
            "  inflating: standard-RAxML-master/evaluateGenericSpecial.c  \n",
            "  inflating: standard-RAxML-master/evaluatePartialGenericSpecial.c  \n",
            "  inflating: standard-RAxML-master/fastDNAparsimony.c  \n",
            "  inflating: standard-RAxML-master/fastSearch.c  \n",
            "  inflating: standard-RAxML-master/globalVariables.h  \n",
            "  inflating: standard-RAxML-master/gpl-3.0.txt  \n",
            "  inflating: standard-RAxML-master/leaveDropping.c  \n",
            "  inflating: standard-RAxML-master/legacyCode.c  \n",
            "  inflating: standard-RAxML-master/makenewzGenericSpecial.c  \n",
            "   creating: standard-RAxML-master/manual/\n",
            "  inflating: standard-RAxML-master/manual/NewManual.odt  \n",
            "  inflating: standard-RAxML-master/manual/NewManual.pdf  \n",
            "  inflating: standard-RAxML-master/mem_alloc.c  \n",
            "  inflating: standard-RAxML-master/models.c  \n",
            "  inflating: standard-RAxML-master/multiple.c  \n",
            "  inflating: standard-RAxML-master/newviewGenericSpecial.c  \n",
            "  inflating: standard-RAxML-master/optimizeModel.c  \n",
            "  inflating: standard-RAxML-master/parsePartitions.c  \n",
            "  inflating: standard-RAxML-master/rapidBootstrap.c  \n",
            "  inflating: standard-RAxML-master/rmq.h  \n",
            "  inflating: standard-RAxML-master/rmqs.c  \n",
            "  inflating: standard-RAxML-master/rmqs.h  \n",
            "  inflating: standard-RAxML-master/rogueEPA.c  \n",
            "  inflating: standard-RAxML-master/searchAlgo.c  \n",
            "  inflating: standard-RAxML-master/sse2neon.h  \n",
            "  inflating: standard-RAxML-master/topologies.c  \n",
            "  inflating: standard-RAxML-master/treeIO.c  \n",
            "   creating: standard-RAxML-master/usefulScripts/\n",
            "  inflating: standard-RAxML-master/usefulScripts/ProteinModelSelection.pl  \n",
            "  inflating: standard-RAxML-master/usefulScripts/applyRAxML2AllFilesInDirectory.pl  \n",
            "  inflating: standard-RAxML-master/usefulScripts/bsBranchLengths.pl  \n",
            "  inflating: standard-RAxML-master/usefulScripts/convertFasta2Phylip.sh  \n",
            "/content/standard-RAxML-master\n",
            "rm -f *.o raxmlHPC\n",
            "gcc  -D_GNU_SOURCE -fomit-frame-pointer -funroll-loops -O2 -msse    -c -o axml.o axml.c\n",
            "gcc  -D_GNU_SOURCE -fomit-frame-pointer -funroll-loops -O2 -msse    -c -o optimizeModel.o optimizeModel.c\n",
            "gcc  -D_GNU_SOURCE -fomit-frame-pointer -funroll-loops -O2 -msse    -c -o multiple.o multiple.c\n",
            "gcc  -D_GNU_SOURCE -fomit-frame-pointer -funroll-loops -O2 -msse    -c -o searchAlgo.o searchAlgo.c\n",
            "gcc  -D_GNU_SOURCE -fomit-frame-pointer -funroll-loops -O2 -msse    -c -o topologies.o topologies.c\n",
            "gcc  -D_GNU_SOURCE -fomit-frame-pointer -funroll-loops -O2 -msse    -c -o parsePartitions.o parsePartitions.c\n",
            "gcc  -D_GNU_SOURCE -fomit-frame-pointer -funroll-loops -O2 -msse    -c -o treeIO.o treeIO.c\n",
            "gcc  -D_GNU_SOURCE -fomit-frame-pointer -funroll-loops -O2 -msse    -c -o models.o models.c\n",
            "gcc  -D_GNU_SOURCE -fomit-frame-pointer -funroll-loops -O2 -msse    -c -o bipartitionList.o bipartitionList.c\n",
            "gcc  -D_GNU_SOURCE -fomit-frame-pointer -funroll-loops -O2 -msse    -c -o rapidBootstrap.o rapidBootstrap.c\n",
            "gcc  -D_GNU_SOURCE -fomit-frame-pointer -funroll-loops -O2 -msse    -c -o evaluatePartialGenericSpecial.o evaluatePartialGenericSpecial.c\n",
            "gcc  -D_GNU_SOURCE -fomit-frame-pointer -funroll-loops -O2 -msse    -c -o evaluateGenericSpecial.o evaluateGenericSpecial.c\n",
            "gcc  -D_GNU_SOURCE -fomit-frame-pointer -funroll-loops -O2 -msse    -c -o newviewGenericSpecial.o newviewGenericSpecial.c\n",
            "gcc  -D_GNU_SOURCE -fomit-frame-pointer -funroll-loops -O2 -msse    -c -o makenewzGenericSpecial.o makenewzGenericSpecial.c\n",
            "gcc  -D_GNU_SOURCE -fomit-frame-pointer -funroll-loops -O2 -msse    -c -o classify.o classify.c\n",
            "gcc  -D_GNU_SOURCE -fomit-frame-pointer -funroll-loops -O2 -msse    -c -o fastDNAparsimony.o fastDNAparsimony.c\n",
            "gcc  -D_GNU_SOURCE -fomit-frame-pointer -funroll-loops -O2 -msse    -c -o fastSearch.o fastSearch.c\n",
            "gcc  -D_GNU_SOURCE -fomit-frame-pointer -funroll-loops -O2 -msse    -c -o leaveDropping.o leaveDropping.c\n",
            "gcc  -D_GNU_SOURCE -fomit-frame-pointer -funroll-loops -O2 -msse    -c -o rmqs.o rmqs.c\n",
            "gcc  -D_GNU_SOURCE -fomit-frame-pointer -funroll-loops -O2 -msse    -c -o rogueEPA.o rogueEPA.c\n",
            "gcc  -D_GNU_SOURCE -fomit-frame-pointer -funroll-loops -O2 -msse    -c -o ancestralStates.o ancestralStates.c\n",
            "gcc  -D_GNU_SOURCE -fomit-frame-pointer -funroll-loops -O2 -msse    -c -o mem_alloc.o mem_alloc.c\n",
            "gcc  -c -o eigen.o eigen.c \n",
            "gcc  -o raxmlHPC axml.o  optimizeModel.o multiple.o searchAlgo.o topologies.o parsePartitions.o treeIO.o models.o bipartitionList.o rapidBootstrap.o evaluatePartialGenericSpecial.o evaluateGenericSpecial.o newviewGenericSpecial.o makenewzGenericSpecial.o   classify.o fastDNAparsimony.o fastSearch.o leaveDropping.o rmqs.o rogueEPA.o ancestralStates.o  mem_alloc.o  eigen.o -lm  \n",
            "/content\n"
          ]
        }
      ]
    },
    {
      "cell_type": "code",
      "source": [
        "!pip install biopython\n",
        "\n",
        "## Biopython is a Python library for computational biology, providing tools to read,\n",
        "## write, and manipulate biological data files (like FASTA and alignment files).\n",
        "## In this analysis, we will use Biopython to load your Exo70 sequences, manage sequence data,\n",
        "## and interact with the output files from MUSCLE and RAxML. It’s especially helpful for handling sequence data within Python.\n",
        "\n",
        "\n",
        "!pip install ete3\n",
        "\n",
        "## ETE3 (Environment for Tree Exploration) is a Python library for constructing, visualizing, and manipulating phylogenetic trees.\n",
        "## After generating the tree with RAxML, we will use ETE3 to load and visualize the tree directly within Google Colab.\n",
        "## This visualization will help interpret the phylogenetic relationships among the Exo70 sequences in a clear, graphical format."
      ],
      "metadata": {
        "colab": {
          "base_uri": "https://localhost:8080/"
        },
        "id": "DGMqXwUqMhfQ",
        "outputId": "efe8db82-b415-4348-9986-200fc185bcb9"
      },
      "execution_count": 4,
      "outputs": [
        {
          "output_type": "stream",
          "name": "stdout",
          "text": [
            "Requirement already satisfied: biopython in /usr/local/lib/python3.10/dist-packages (1.84)\n",
            "Requirement already satisfied: numpy in /usr/local/lib/python3.10/dist-packages (from biopython) (1.26.4)\n",
            "Requirement already satisfied: ete3 in /usr/local/lib/python3.10/dist-packages (3.1.3)\n"
          ]
        }
      ]
    },
    {
      "cell_type": "markdown",
      "source": [
        "# Step 2: Load and Organize Your Sequences"
      ],
      "metadata": {
        "id": "2Zv-eeybG9S7"
      }
    },
    {
      "cell_type": "code",
      "source": [
        "## Upload your Exo70 sequences file to Colab.\n",
        "## Replace 'Exo70_sequences.fasta' with the path to your sequences file.\n",
        "\n",
        "from Bio import SeqIO\n",
        "from google.colab import files\n",
        "\n",
        "# Upload your input FASTA files\n",
        "uploaded = files.upload()"
      ],
      "metadata": {
        "colab": {
          "base_uri": "https://localhost:8080/",
          "height": 74
        },
        "id": "SQHv5bKKFM6t",
        "outputId": "91cc0f67-ccfe-4df6-c804-3145ed392db6"
      },
      "execution_count": 5,
      "outputs": [
        {
          "output_type": "display_data",
          "data": {
            "text/plain": [
              "<IPython.core.display.HTML object>"
            ],
            "text/html": [
              "\n",
              "     <input type=\"file\" id=\"files-e6ae96f3-2193-4c28-9b95-91b66dc01a27\" name=\"files[]\" multiple disabled\n",
              "        style=\"border:none\" />\n",
              "     <output id=\"result-e6ae96f3-2193-4c28-9b95-91b66dc01a27\">\n",
              "      Upload widget is only available when the cell has been executed in the\n",
              "      current browser session. Please rerun this cell to enable.\n",
              "      </output>\n",
              "      <script>// Copyright 2017 Google LLC\n",
              "//\n",
              "// Licensed under the Apache License, Version 2.0 (the \"License\");\n",
              "// you may not use this file except in compliance with the License.\n",
              "// You may obtain a copy of the License at\n",
              "//\n",
              "//      http://www.apache.org/licenses/LICENSE-2.0\n",
              "//\n",
              "// Unless required by applicable law or agreed to in writing, software\n",
              "// distributed under the License is distributed on an \"AS IS\" BASIS,\n",
              "// WITHOUT WARRANTIES OR CONDITIONS OF ANY KIND, either express or implied.\n",
              "// See the License for the specific language governing permissions and\n",
              "// limitations under the License.\n",
              "\n",
              "/**\n",
              " * @fileoverview Helpers for google.colab Python module.\n",
              " */\n",
              "(function(scope) {\n",
              "function span(text, styleAttributes = {}) {\n",
              "  const element = document.createElement('span');\n",
              "  element.textContent = text;\n",
              "  for (const key of Object.keys(styleAttributes)) {\n",
              "    element.style[key] = styleAttributes[key];\n",
              "  }\n",
              "  return element;\n",
              "}\n",
              "\n",
              "// Max number of bytes which will be uploaded at a time.\n",
              "const MAX_PAYLOAD_SIZE = 100 * 1024;\n",
              "\n",
              "function _uploadFiles(inputId, outputId) {\n",
              "  const steps = uploadFilesStep(inputId, outputId);\n",
              "  const outputElement = document.getElementById(outputId);\n",
              "  // Cache steps on the outputElement to make it available for the next call\n",
              "  // to uploadFilesContinue from Python.\n",
              "  outputElement.steps = steps;\n",
              "\n",
              "  return _uploadFilesContinue(outputId);\n",
              "}\n",
              "\n",
              "// This is roughly an async generator (not supported in the browser yet),\n",
              "// where there are multiple asynchronous steps and the Python side is going\n",
              "// to poll for completion of each step.\n",
              "// This uses a Promise to block the python side on completion of each step,\n",
              "// then passes the result of the previous step as the input to the next step.\n",
              "function _uploadFilesContinue(outputId) {\n",
              "  const outputElement = document.getElementById(outputId);\n",
              "  const steps = outputElement.steps;\n",
              "\n",
              "  const next = steps.next(outputElement.lastPromiseValue);\n",
              "  return Promise.resolve(next.value.promise).then((value) => {\n",
              "    // Cache the last promise value to make it available to the next\n",
              "    // step of the generator.\n",
              "    outputElement.lastPromiseValue = value;\n",
              "    return next.value.response;\n",
              "  });\n",
              "}\n",
              "\n",
              "/**\n",
              " * Generator function which is called between each async step of the upload\n",
              " * process.\n",
              " * @param {string} inputId Element ID of the input file picker element.\n",
              " * @param {string} outputId Element ID of the output display.\n",
              " * @return {!Iterable<!Object>} Iterable of next steps.\n",
              " */\n",
              "function* uploadFilesStep(inputId, outputId) {\n",
              "  const inputElement = document.getElementById(inputId);\n",
              "  inputElement.disabled = false;\n",
              "\n",
              "  const outputElement = document.getElementById(outputId);\n",
              "  outputElement.innerHTML = '';\n",
              "\n",
              "  const pickedPromise = new Promise((resolve) => {\n",
              "    inputElement.addEventListener('change', (e) => {\n",
              "      resolve(e.target.files);\n",
              "    });\n",
              "  });\n",
              "\n",
              "  const cancel = document.createElement('button');\n",
              "  inputElement.parentElement.appendChild(cancel);\n",
              "  cancel.textContent = 'Cancel upload';\n",
              "  const cancelPromise = new Promise((resolve) => {\n",
              "    cancel.onclick = () => {\n",
              "      resolve(null);\n",
              "    };\n",
              "  });\n",
              "\n",
              "  // Wait for the user to pick the files.\n",
              "  const files = yield {\n",
              "    promise: Promise.race([pickedPromise, cancelPromise]),\n",
              "    response: {\n",
              "      action: 'starting',\n",
              "    }\n",
              "  };\n",
              "\n",
              "  cancel.remove();\n",
              "\n",
              "  // Disable the input element since further picks are not allowed.\n",
              "  inputElement.disabled = true;\n",
              "\n",
              "  if (!files) {\n",
              "    return {\n",
              "      response: {\n",
              "        action: 'complete',\n",
              "      }\n",
              "    };\n",
              "  }\n",
              "\n",
              "  for (const file of files) {\n",
              "    const li = document.createElement('li');\n",
              "    li.append(span(file.name, {fontWeight: 'bold'}));\n",
              "    li.append(span(\n",
              "        `(${file.type || 'n/a'}) - ${file.size} bytes, ` +\n",
              "        `last modified: ${\n",
              "            file.lastModifiedDate ? file.lastModifiedDate.toLocaleDateString() :\n",
              "                                    'n/a'} - `));\n",
              "    const percent = span('0% done');\n",
              "    li.appendChild(percent);\n",
              "\n",
              "    outputElement.appendChild(li);\n",
              "\n",
              "    const fileDataPromise = new Promise((resolve) => {\n",
              "      const reader = new FileReader();\n",
              "      reader.onload = (e) => {\n",
              "        resolve(e.target.result);\n",
              "      };\n",
              "      reader.readAsArrayBuffer(file);\n",
              "    });\n",
              "    // Wait for the data to be ready.\n",
              "    let fileData = yield {\n",
              "      promise: fileDataPromise,\n",
              "      response: {\n",
              "        action: 'continue',\n",
              "      }\n",
              "    };\n",
              "\n",
              "    // Use a chunked sending to avoid message size limits. See b/62115660.\n",
              "    let position = 0;\n",
              "    do {\n",
              "      const length = Math.min(fileData.byteLength - position, MAX_PAYLOAD_SIZE);\n",
              "      const chunk = new Uint8Array(fileData, position, length);\n",
              "      position += length;\n",
              "\n",
              "      const base64 = btoa(String.fromCharCode.apply(null, chunk));\n",
              "      yield {\n",
              "        response: {\n",
              "          action: 'append',\n",
              "          file: file.name,\n",
              "          data: base64,\n",
              "        },\n",
              "      };\n",
              "\n",
              "      let percentDone = fileData.byteLength === 0 ?\n",
              "          100 :\n",
              "          Math.round((position / fileData.byteLength) * 100);\n",
              "      percent.textContent = `${percentDone}% done`;\n",
              "\n",
              "    } while (position < fileData.byteLength);\n",
              "  }\n",
              "\n",
              "  // All done.\n",
              "  yield {\n",
              "    response: {\n",
              "      action: 'complete',\n",
              "    }\n",
              "  };\n",
              "}\n",
              "\n",
              "scope.google = scope.google || {};\n",
              "scope.google.colab = scope.google.colab || {};\n",
              "scope.google.colab._files = {\n",
              "  _uploadFiles,\n",
              "  _uploadFilesContinue,\n",
              "};\n",
              "})(self);\n",
              "</script> "
            ]
          },
          "metadata": {}
        },
        {
          "output_type": "stream",
          "name": "stdout",
          "text": [
            "Saving Exo70_HvTaOsOtZmSiSbBd_5_SH.fa to Exo70_HvTaOsOtZmSiSbBd_5_SH.fa\n"
          ]
        }
      ]
    },
    {
      "cell_type": "code",
      "source": [
        "\n",
        "# Load sequences\n",
        "sequences = list(SeqIO.parse('Exo70_HvTaOsOtZmSiSbBd_5_SH.fa', 'fasta'))\n",
        "print(f\"Loaded {len(sequences)} sequences.\")"
      ],
      "metadata": {
        "colab": {
          "base_uri": "https://localhost:8080/"
        },
        "id": "qDAJpo9dHaDv",
        "outputId": "7959e4f0-11bd-4f9e-a856-6011fc44eab2"
      },
      "execution_count": 6,
      "outputs": [
        {
          "output_type": "stream",
          "name": "stdout",
          "text": [
            "Loaded 386 sequences.\n"
          ]
        }
      ]
    },
    {
      "cell_type": "markdown",
      "source": [
        "# Step 3: Perform Multiple Sequence Alignment"
      ],
      "metadata": {
        "id": "tLnY6_XUH0y2"
      }
    },
    {
      "cell_type": "code",
      "source": [
        "## Use MUSCLE to perform sequence alignment. This creates a file Exo70_aligned.aln containing the alignment.\n",
        "\n",
        "!muscle -in Exo70_HvTaOsOtZmSiSbBd_5_SH.fa -out Exo70_aligned.aln\n"
      ],
      "metadata": {
        "colab": {
          "base_uri": "https://localhost:8080/"
        },
        "id": "MAAJlDFLFq6v",
        "outputId": "1710c36a-51ae-4c28-f5e7-d0ac553b4a85"
      },
      "execution_count": 7,
      "outputs": [
        {
          "output_type": "stream",
          "name": "stdout",
          "text": [
            "\n",
            "MUSCLE v3.8.1551 by Robert C. Edgar\n",
            "\n",
            "http://www.drive5.com/muscle\n",
            "This software is donated to the public domain.\n",
            "Please cite: Edgar, R.C. Nucleic Acids Res 32(5), 1792-97.\n",
            "\n",
            "Exo70_HvTaOsOtZmSiSbBd_5_SH 386 seqs, lengths min 76, max 1085, avg 548\n",
            "00:00:01     18 MB(4%)  Iter   1  100.00%  K-mer dist pass 1\n",
            "00:00:01     18 MB(4%)  Iter   1  100.00%  K-mer dist pass 2\n",
            "00:00:06   177 MB(44%)  Iter   1  100.00%  Align node\n",
            "00:00:06   178 MB(44%)  Iter   1  100.00%  Root alignment\n",
            "00:00:11   179 MB(44%)  Iter   2  100.00%  Refine tree\n",
            "00:00:11   179 MB(44%)  Iter   2  100.00%  Root alignment\n",
            "00:00:11   179 MB(44%)  Iter   2  100.00%  Root alignment\n",
            "00:02:11   179 MB(44%)  Iter   3  100.00%  Refine biparts\n",
            "00:04:02   179 MB(44%)  Iter   4  100.00%  Refine biparts\n",
            "00:05:50   179 MB(44%)  Iter   5  100.00%  Refine biparts\n",
            "00:06:52   179 MB(44%)  Iter   6  100.00%  Refine biparts\n",
            "00:06:52   179 MB(44%)  Iter   6  100.00%  Refine biparts\n"
          ]
        }
      ]
    },
    {
      "cell_type": "markdown",
      "source": [
        "# Step 4: Phylogenetic Tree Construction with RAxML"
      ],
      "metadata": {
        "id": "gbH9wWCJKVsE"
      }
    },
    {
      "cell_type": "code",
      "source": [
        "## Using the aligned sequences, construct a phylogenetic tree with RAxML.\n",
        "## Here’s the command to run RAxML, specifying the JTT model and 100 bootstraps for accuracy.\n",
        "\n",
        "!./raxmlHPC -f a -x 12345 -p 12345 -# 100 -m PROTGAMMAJTT -s Exo70_aligned.aln -n Exo70_tree -T 16\n",
        "\n"
      ],
      "metadata": {
        "colab": {
          "base_uri": "https://localhost:8080/"
        },
        "id": "yO8nwM_RKaJr",
        "outputId": "70b787a9-d4cc-437c-837f-dea86bc01912"
      },
      "execution_count": 9,
      "outputs": [
        {
          "output_type": "stream",
          "name": "stdout",
          "text": [
            "Option -T does not have any effect with the sequential or parallel MPI version.\n",
            "It is used to specify the number of threads for the Pthreads-based parallelization\n",
            "\n",
            "RAxML can't, parse the alignment file as phylip file \n",
            "it will now try to parse it as FASTA file\n",
            "\n",
            "\n",
            "\n",
            "This is RAxML version 8.2.12 released by Alexandros Stamatakis on May 2018.\n",
            "\n",
            "With greatly appreciated code contributions by:\n",
            "Andre Aberer      (HITS)\n",
            "Simon Berger      (HITS)\n",
            "Alexey Kozlov     (HITS)\n",
            "Kassian Kobert    (HITS)\n",
            "David Dao         (KIT and HITS)\n",
            "Sarah Lutteropp   (KIT and HITS)\n",
            "Nick Pattengale   (Sandia)\n",
            "Wayne Pfeiffer    (SDSC)\n",
            "Akifumi S. Tanabe (NRIFS)\n",
            "Charlie Taylor    (UF)\n",
            "\n",
            "\n",
            "Alignment has 1512 distinct alignment patterns\n",
            "\n",
            "Proportion of gaps and completely undetermined characters in this alignment: 76.76%\n",
            "\n",
            "RAxML rapid bootstrapping and subsequent ML search\n",
            "\n",
            "Using 1 distinct models/data partitions with joint branch length optimization\n",
            "\n",
            "\n",
            "\n",
            "Executing 100 rapid bootstrap inferences and thereafter a thorough ML search \n",
            "\n",
            "All free model parameters will be estimated by RAxML\n",
            "GAMMA model of rate heterogeneity, ML estimate of alpha-parameter\n",
            "\n",
            "GAMMA Model parameters will be estimated up to an accuracy of 0.1000000000 Log Likelihood units\n",
            "\n",
            "Partition: 0\n",
            "Alignment Patterns: 1512\n",
            "Name: No Name Provided\n",
            "DataType: AA\n",
            "Substitution Matrix: JTT\n",
            "Using fixed base frequencies\n",
            "\n",
            "\n",
            "\n",
            "\n",
            "RAxML was called as follows:\n",
            "\n",
            "./raxmlHPC -f a -x 12345 -p 12345 -# 100 -m PROTGAMMAJTT -s Exo70_aligned.aln -n Exo70_tree -T 16 \n",
            "\n",
            "\n",
            "\n",
            "Time for BS model parameter optimization 208.112549\n",
            "^C\n"
          ]
        }
      ]
    },
    {
      "cell_type": "code",
      "source": [
        "## After running, RAxML will output a file RAxML_bipartitions.Exo70_tree containing the tree with bootstrap values.\n",
        "\n",
        "## Step 5: Visualize the Phylogenetic Tree\n",
        "## Use the ete3 package in Python to visualize the phylogenetic tree.\n",
        "\n",
        "\n",
        "from ete3 import Tree, TreeStyle\n",
        "\n",
        "# Load and visualize the tree\n",
        "tree = Tree(\"RAxML_bipartitions.Exo70_tree\")\n",
        "\n",
        "# Optional: Customize TreeStyle for better visualization\n",
        "ts = TreeStyle()\n",
        "ts.show_leaf_name = True\n",
        "ts.scale = 120\n",
        "\n",
        "tree.show(tree_style=ts)\n"
      ],
      "metadata": {
        "id": "XH4NEVJihz3E"
      },
      "execution_count": null,
      "outputs": []
    },
    {
      "cell_type": "code",
      "source": [
        "## Step 8: Download Results\n",
        "\n",
        "## You can download your results, including alignments, trees, or figures, directly from Google Colab.\n",
        "\n",
        "from google.colab import files\n",
        "files.download('Exo70_aligned.aln')\n",
        "files.download('RAxML_bipartitions.Exo70_tree')\n"
      ],
      "metadata": {
        "id": "y7c7VAuiiFvQ"
      },
      "execution_count": null,
      "outputs": []
    }
  ]
}